{
  "nbformat": 4,
  "nbformat_minor": 0,
  "metadata": {
    "colab": {
      "provenance": [],
      "authorship_tag": "ABX9TyMCUmEw1mUSU0p+OgEEUawg",
      "include_colab_link": true
    },
    "kernelspec": {
      "name": "python3",
      "display_name": "Python 3"
    },
    "language_info": {
      "name": "python"
    }
  },
  "cells": [
    {
      "cell_type": "markdown",
      "metadata": {
        "id": "view-in-github",
        "colab_type": "text"
      },
      "source": [
        "<a href=\"https://colab.research.google.com/github/K-Pavan0987654321/alcohol-detctor/blob/main/Python_generators.ipynb\" target=\"_parent\"><img src=\"https://colab.research.google.com/assets/colab-badge.svg\" alt=\"Open In Colab\"/></a>"
      ]
    },
    {
      "cell_type": "code",
      "execution_count": 5,
      "metadata": {
        "colab": {
          "base_uri": "https://localhost:8080/"
        },
        "id": "-OBtLCMUW3MP",
        "outputId": "275c8288-ce91-47b4-cebe-50e9ca545f73"
      },
      "outputs": [
        {
          "output_type": "stream",
          "name": "stdout",
          "text": [
            "1\n",
            "2\n",
            "3\n"
          ]
        }
      ],
      "source": [
        "# Generators -A generator in Python is a special type of function that allows you to generate values one at a time instead of storing them all at once in memory.\n",
        "'''It is created using the yield keyword.\n",
        "\n",
        "Generators are memory efficient because they produce items only when needed (lazy evaluation).\n",
        "\n",
        "Think of it like a TV remote:\n",
        " You press the button (call next()), it gives you the next channel (value).\n",
        " It doesn’t load all channels at once.'''\n",
        "\n",
        "# syntax:\n",
        "'''def my_generator():\n",
        "    yield value1\n",
        "    yield value2\n",
        "    yield value3'''\n",
        "\n",
        "def simple_gen():\n",
        "    yield 1\n",
        "    yield 2\n",
        "    yield 3\n",
        "\n",
        "gen = simple_gen()\n",
        "\n",
        "print(next(gen))  # 1\n",
        "print(next(gen))  # 2\n",
        "print(next(gen))  # 3"
      ]
    },
    {
      "cell_type": "code",
      "source": [
        "'''Difference between return and yield\n",
        "\n",
        "return → ends the function completely.\n",
        "\n",
        "yield → pauses the function, saves its state, and resumes from the same point when called again.'''\n",
        "\n",
        "def test_return():\n",
        "    return 1\n",
        "    return 2    # this never executes\n",
        "test_return()\n",
        "\n",
        "\n",
        "def test_yield():\n",
        "    yield 1\n",
        "    yield 2   # this will execute\n",
        "test_yield()\n",
        "\n",
        "print(test_return())\n",
        "print(list(test_yield()))"
      ],
      "metadata": {
        "colab": {
          "base_uri": "https://localhost:8080/"
        },
        "id": "uMRRokkaZ99b",
        "outputId": "f49c4243-7d51-4158-ebd2-dee94b3d78c0"
      },
      "execution_count": 18,
      "outputs": [
        {
          "output_type": "stream",
          "name": "stdout",
          "text": [
            "1\n",
            "[1, 2]\n"
          ]
        }
      ]
    },
    {
      "cell_type": "code",
      "source": [
        "# Generator with Loops\n",
        "'''Instead of writing multiple yield, we often use a loop.'''\n",
        "\n",
        "def count_up_to(x):\n",
        "    count = 1\n",
        "    while count <= x:\n",
        "        yield count\n",
        "        count += 1\n",
        "\n",
        "for i in count_up_to(5):\n",
        "    print(i)\n"
      ],
      "metadata": {
        "colab": {
          "base_uri": "https://localhost:8080/"
        },
        "id": "PLy7ShU0b0Xx",
        "outputId": "a7c4c974-fadd-4e79-cdc2-4eacb1d13a3b"
      },
      "execution_count": 19,
      "outputs": [
        {
          "output_type": "stream",
          "name": "stdout",
          "text": [
            "1\n",
            "2\n",
            "3\n",
            "4\n",
            "5\n"
          ]
        }
      ]
    },
    {
      "cell_type": "code",
      "source": [
        "#Generator Expression (Like List Comprehension)\n",
        "\n",
        "'''instead of [ ], we use ( )'''\n",
        "\n",
        "# List comprehension (creates full list in memory)\n",
        "nums_list = [x*x for x in range(5)]\n",
        "print(nums_list)   # [0, 1, 4, 9, 16]\n",
        "\n",
        "# Generator expression (lazy, one by one)\n",
        "nums_gen = (x*x for x in range(5))\n",
        "print(nums_gen)    # <generator object>\n",
        "print(next(nums_gen))  # 0\n",
        "print(next(nums_gen))  # 1\n",
        "\n"
      ],
      "metadata": {
        "colab": {
          "base_uri": "https://localhost:8080/"
        },
        "id": "LWLK9jS0ck_R",
        "outputId": "ef6883f8-f853-43a7-83c3-72bd75c349bb"
      },
      "execution_count": 23,
      "outputs": [
        {
          "output_type": "stream",
          "name": "stdout",
          "text": [
            "[0, 1, 4, 9, 16]\n",
            "<generator object <genexpr> at 0x7ba8cee11b10>\n",
            "0\n",
            "1\n"
          ]
        }
      ]
    },
    {
      "cell_type": "code",
      "source": [
        "# Using Generators with next()\n",
        "\n",
        "def gen():\n",
        "    yield \"A\"\n",
        "    yield \"B\"\n",
        "    yield \"C\"\n",
        "\n",
        "g = gen()\n",
        "print(next(g))\n",
        "print(next(g))\n",
        "print(next(g))\n"
      ],
      "metadata": {
        "colab": {
          "base_uri": "https://localhost:8080/"
        },
        "id": "PSp8VWz0dLxW",
        "outputId": "430f00d8-163f-4575-f925-984f700546b7"
      },
      "execution_count": 24,
      "outputs": [
        {
          "output_type": "stream",
          "name": "stdout",
          "text": [
            "A\n",
            "B\n",
            "C\n"
          ]
        }
      ]
    },
    {
      "cell_type": "code",
      "source": [
        "# yield from – Delegating to Another Generator\n",
        "\n",
        "def sub_gen():\n",
        "    yield 1\n",
        "    yield 2\n",
        "\n",
        "def main_gen():\n",
        "    yield from sub_gen()\n",
        "    yield 3\n",
        "\n",
        "g=main_gen()\n",
        "print(list(g))\n"
      ],
      "metadata": {
        "colab": {
          "base_uri": "https://localhost:8080/"
        },
        "id": "_9eISI4reIHE",
        "outputId": "674cfc95-0378-4f2a-edde-8b0f65249f85"
      },
      "execution_count": 28,
      "outputs": [
        {
          "output_type": "stream",
          "name": "stdout",
          "text": [
            "[1, 2, 3]\n"
          ]
        }
      ]
    }
  ]
}